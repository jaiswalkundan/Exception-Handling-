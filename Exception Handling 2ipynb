{
 "cells": [
  {
   "cell_type": "code",
   "execution_count": null,
   "id": "0f817928-65b9-4443-8583-bb370a8b1f49",
   "metadata": {},
   "outputs": [],
   "source": [
    "Q1. Explain why we have to use the Exception class while creating a Custom Exception.\n",
    "Note: Here Exception class refers to the base class for all the exceptions."
   ]
  },
  {
   "cell_type": "markdown",
   "id": "d971ee67-b215-406c-91f9-17cef53198a5",
   "metadata": {},
   "source": [
    "using the exception class as the base class for custom exception in python is important because \n",
    "it provides a standardized structure and functionality for handling errors. by inheriting from the Exceptin\n",
    "class your custom exception can leverage common exception handling.\n",
    "Exception class defines essential methods like __init__ and __str__ allowing you to customize the initialization process"
   ]
  },
  {
   "cell_type": "code",
   "execution_count": null,
   "id": "6a1fe9fd-112b-40b8-83da-a41497776683",
   "metadata": {},
   "outputs": [],
   "source": [
    "Q2. Write a python program to print Python Exception Hierarchy."
   ]
  },
  {
   "cell_type": "code",
   "execution_count": 1,
   "id": "6a3ac24a-d05f-4318-9034-cbd5739e8d77",
   "metadata": {},
   "outputs": [
    {
     "name": "stdout",
     "output_type": "stream",
     "text": [
      "Exception Hierarchy:\n",
      "Exception\n",
      "  - object\n",
      "  - BaseException\n",
      "  - Exception\n"
     ]
    }
   ],
   "source": [
    "def print_exception_hierarchy():\n",
    "    try:\n",
    "        raise Exception(\"Sample Exception\")\n",
    "    except Exception as e:\n",
    "        print(f\"Exception Hierarchy:\\n{type(e).__name__}\")\n",
    "        print_exception_classes(type(e))\n",
    "        \n",
    "def print_exception_classes(exception_type):\n",
    "    if exception_type.__bases__:\n",
    "        for base_exception in exception_type.__bases__:\n",
    "            print_exception_classes(base_exception)\n",
    "    print(f\"  - {exception_type.__name__}\")\n",
    "print_exception_hierarchy()   "
   ]
  },
  {
   "cell_type": "code",
   "execution_count": null,
   "id": "3a1aff97-a49a-4715-a7d0-9a8070314e38",
   "metadata": {},
   "outputs": [],
   "source": [
    "Q3. What errors are defined in the ArithmeticError class? Explain any two with an example."
   ]
  },
  {
   "cell_type": "code",
   "execution_count": null,
   "id": "eb6966de-4a6c-417d-94e7-b2b531afe3c2",
   "metadata": {},
   "outputs": [],
   "source": [
    "1.overflow Error"
   ]
  },
  {
   "cell_type": "code",
   "execution_count": 4,
   "id": "eb973d87-c6f8-4312-96ad-b36fc62b1e09",
   "metadata": {},
   "outputs": [],
   "source": [
    "import sys\n",
    "try:\n",
    "    result = sys.maxsize +1\n",
    "except OverflowError as e:\n",
    "    print(f\"OverflowError:{e}\")"
   ]
  },
  {
   "cell_type": "code",
   "execution_count": null,
   "id": "6d93ac74-da66-4d30-9cb1-c6af2868d84f",
   "metadata": {},
   "outputs": [],
   "source": [
    "ZerodivisionError"
   ]
  },
  {
   "cell_type": "code",
   "execution_count": 3,
   "id": "79e9c7e6-65c6-4c5a-9402-fe54d60dab3b",
   "metadata": {},
   "outputs": [
    {
     "name": "stdout",
     "output_type": "stream",
     "text": [
      "ZeroDivisionError:division by zero\n"
     ]
    }
   ],
   "source": [
    "try:\n",
    "    result=5/0\n",
    "except ZeroDivisionError as e:\n",
    "    print(f\"ZeroDivisionError:{e}\")"
   ]
  },
  {
   "cell_type": "code",
   "execution_count": null,
   "id": "ff9de862-f2bd-46f3-bedc-9d3df3ffd3cf",
   "metadata": {},
   "outputs": [],
   "source": [
    "Q4. Why LookupError class is used? Explain with an example KeyError and IndexError."
   ]
  },
  {
   "cell_type": "code",
   "execution_count": null,
   "id": "298f9373-cd99-4e0b-abda-cf6b829e456f",
   "metadata": {},
   "outputs": [],
   "source": [
    "lookupError is base class for exception that occur when a key or index is not found. Two common subclass\n",
    "are keyError and IndexError"
   ]
  },
  {
   "cell_type": "code",
   "execution_count": null,
   "id": "3b7ab368-ba1a-483c-b90a-3198b32463b2",
   "metadata": {},
   "outputs": [],
   "source": [
    "key Error"
   ]
  },
  {
   "cell_type": "code",
   "execution_count": 5,
   "id": "3cc1245c-b304-48d9-8b08-3cc198f32c85",
   "metadata": {},
   "outputs": [
    {
     "name": "stdout",
     "output_type": "stream",
     "text": [
      "KeyError:'c'\n"
     ]
    }
   ],
   "source": [
    "my_dict = {'a':1,'b':2}\n",
    "try:\n",
    "    value = my_dict['c']\n",
    "except KeyError as e:\n",
    "    print(f\"KeyError:{e}\")"
   ]
  },
  {
   "cell_type": "code",
   "execution_count": null,
   "id": "aaad3703-ca9c-4992-9f72-d944620a954c",
   "metadata": {},
   "outputs": [],
   "source": [
    "IndexError"
   ]
  },
  {
   "cell_type": "code",
   "execution_count": 6,
   "id": "276e5c26-5c86-4549-a1cf-cdf4b1e4a215",
   "metadata": {},
   "outputs": [
    {
     "name": "stdout",
     "output_type": "stream",
     "text": [
      "IndexError: list index out of range\n"
     ]
    }
   ],
   "source": [
    "my_list =[1,2,3]\n",
    "try:\n",
    "    element=my_list[4]\n",
    "except IndexError as e:\n",
    "    print(f\"IndexError: {e}\")"
   ]
  },
  {
   "cell_type": "code",
   "execution_count": null,
   "id": "8c8a08ce-69bc-4b1c-be97-c1aa9ffff185",
   "metadata": {},
   "outputs": [],
   "source": [
    "Q5. Explain ImportError. What is ModuleNotFoundError?"
   ]
  },
  {
   "cell_type": "markdown",
   "id": "1737a007-c6f0-4bab-b77e-c571476871e2",
   "metadata": {},
   "source": [
    "importError occurs when python encounters issues while tryning to import a module. the specific subtype\n",
    "\"modulenot founderror\" is raised when the interpreter cannot find the specified module in the available paths."
   ]
  },
  {
   "cell_type": "code",
   "execution_count": null,
   "id": "429c2663-3561-4413-bfec-754fca2eacd0",
   "metadata": {},
   "outputs": [],
   "source": [
    "Q6. List down some best practices for exception handling in python."
   ]
  },
  {
   "cell_type": "markdown",
   "id": "b59c87b0-b4d2-4dee-8df9-ea3b9921b141",
   "metadata": {},
   "source": [
    "1.specific Exception\n",
    "2.Avoid Bare Except\n",
    "3.Use try-except-else\n",
    "4.Handling Exceptions\n",
    "5.Logging\n",
    "6.Custom Exception\n",
    "7.Cleanup with finally\n",
    "8.Avoid Too much Nesting\n",
    "9.Fail Fast\n",
    "10.Handle Exception at the Right level\n",
    "11. U"
   ]
  }
 ],
 "metadata": {
  "kernelspec": {
   "display_name": "Python 3 (ipykernel)",
   "language": "python",
   "name": "python3"
  },
  "language_info": {
   "codemirror_mode": {
    "name": "ipython",
    "version": 3
   },
   "file_extension": ".py",
   "mimetype": "text/x-python",
   "name": "python",
   "nbconvert_exporter": "python",
   "pygments_lexer": "ipython3",
   "version": "3.10.8"
  }
 },
 "nbformat": 4,
 "nbformat_minor": 5
}
